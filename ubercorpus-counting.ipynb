{
 "cells": [
  {
   "cell_type": "markdown",
   "metadata": {},
   "source": [
    "Created by Artur Samvelyan \n",
    "\n",
    "Email: arthur@rikkicom.io\n",
    "\n",
    "Rikkicom"
   ]
  },
  {
   "cell_type": "code",
   "execution_count": 1,
   "metadata": {},
   "outputs": [],
   "source": [
    "import re\n",
    "import pickle\n",
    "\n",
    "from collections import defaultdict\n",
    "from tqdm.notebook import tqdm\n",
    "from typing import List"
   ]
  },
  {
   "cell_type": "code",
   "execution_count": 2,
   "metadata": {},
   "outputs": [],
   "source": [
    "def clean_text(text: str) -> str:\n",
    "    cleaned_str = re.sub('[^а-яїіґє\\\\s]+', '',text,flags=re.IGNORECASE)\n",
    "    cleaned_str = re.sub('(\\\\s+)', ' ',cleaned_str)\n",
    "    cleaned_str = cleaned_str.lower()\n",
    "    return cleaned_str\n",
    "\n",
    "def preprocess_text(text: str) -> List[str]:\n",
    "    cleaned = clean_text(text.lower())\n",
    "    tokens = cleaned.split()\n",
    "    return tokens\n",
    "    \n",
    "def count(tokens: List[int]) -> dict:\n",
    "    dd = defaultdict(lambda: 0)\n",
    "    for token in tokens:\n",
    "        dd[token] += 1\n",
    "    return dd\n",
    "\n",
    "def merge(first, second):\n",
    "    for k,v in first.items():\n",
    "        second[k] += v\n",
    "    return second"
   ]
  },
  {
   "cell_type": "markdown",
   "metadata": {},
   "source": [
    "### Counting process"
   ]
  },
  {
   "cell_type": "code",
   "execution_count": 3,
   "metadata": {},
   "outputs": [],
   "source": [
    "datasets = ['data/news.lemmatized.shuffled.txt',\n",
    "            'data/wiki_dump.lemmatized.txt',\n",
    "            'data/fiction.lemmatized.shuffled.txt']"
   ]
  },
  {
   "cell_type": "code",
   "execution_count": 4,
   "metadata": {},
   "outputs": [],
   "source": [
    "freqs = defaultdict(lambda: 0)"
   ]
  },
  {
   "cell_type": "code",
   "execution_count": 5,
   "metadata": {},
   "outputs": [
    {
     "data": {
      "application/vnd.jupyter.widget-view+json": {
       "model_id": "8e7b3bf3afca43e1b42b2f86ee7b4ffa",
       "version_major": 2,
       "version_minor": 0
      },
      "text/plain": [
       "0it [00:00, ?it/s]"
      ]
     },
     "metadata": {},
     "output_type": "display_data"
    },
    {
     "data": {
      "application/vnd.jupyter.widget-view+json": {
       "model_id": "9e87e086010a42009ff58c7f145b58fc",
       "version_major": 2,
       "version_minor": 0
      },
      "text/plain": [
       "0it [00:00, ?it/s]"
      ]
     },
     "metadata": {},
     "output_type": "display_data"
    },
    {
     "data": {
      "application/vnd.jupyter.widget-view+json": {
       "model_id": "a5de014974144e03be1d756db21329e1",
       "version_major": 2,
       "version_minor": 0
      },
      "text/plain": [
       "0it [00:00, ?it/s]"
      ]
     },
     "metadata": {},
     "output_type": "display_data"
    }
   ],
   "source": [
    "for dataset_path in datasets:\n",
    "    with open(dataset_path, 'r') as f:\n",
    "        for line in tqdm(f):\n",
    "            tokens = preprocess_text(line)\n",
    "            d = count(tokens)\n",
    "            freqs = merge(d, freqs)"
   ]
  },
  {
   "cell_type": "code",
   "execution_count": 6,
   "metadata": {},
   "outputs": [],
   "source": [
    "with open('frequencies.txt', 'wb') as f:\n",
    "    pickle.dump(dict(freqs), f)"
   ]
  },
  {
   "cell_type": "code",
   "execution_count": 7,
   "metadata": {},
   "outputs": [],
   "source": [
    "#with open('frequencies.txt', 'rb') as f:\n",
    "    #freqs = pickle.load(f)"
   ]
  },
  {
   "cell_type": "code",
   "execution_count": 8,
   "metadata": {},
   "outputs": [
    {
     "data": {
      "text/plain": [
       "[('але', 1316113),\n",
       " ('передусім', 18564),\n",
       " ('збройний', 107562),\n",
       " ('конфлікт', 123624),\n",
       " ('з', 9474681),\n",
       " ('росія', 815145),\n",
       " ('треба', 221495),\n",
       " ('боятися', 50551),\n",
       " ('україна', 4043423),\n",
       " ('адже', 155134),\n",
       " ('її', 818532),\n",
       " ('сила', 447845),\n",
       " ('застаріти', 1352),\n",
       " ('і', 10688704),\n",
       " ('не', 6097124),\n",
       " ('здатний', 60541),\n",
       " ('успішно', 32009),\n",
       " ('протистояти', 13460),\n",
       " ('противник', 34685),\n",
       " ('в', 12830204),\n",
       " ('сучасне', 41688),\n",
       " ('на', 12600041),\n",
       " ('борт', 36233),\n",
       " ('лайнер', 9211),\n",
       " ('перебувати', 250944),\n",
       " ('особа', 722181),\n",
       " ('у', 11655571),\n",
       " ('тому', 756111),\n",
       " ('число', 240020),\n",
       " ('член', 416836),\n",
       " ('екіпаж', 42248),\n",
       " ('ви', 457836),\n",
       " ('сам', 571784),\n",
       " ('багато', 449157),\n",
       " ('репетирувати', 688),\n",
       " ('як', 3772679),\n",
       " ('повідомляти', 625772),\n",
       " ('державний', 693179),\n",
       " ('прикордонний', 46683),\n",
       " ('служба', 321821),\n",
       " ('під', 1223538),\n",
       " ('час', 1408419),\n",
       " ('контроль', 142455),\n",
       " ('один', 1453734),\n",
       " ('пасажир', 75076),\n",
       " ('який', 3959314),\n",
       " ('прибути', 67687),\n",
       " ('відень', 22408),\n",
       " ('спрацювати', 10112),\n",
       " ('база', 152316)]"
      ]
     },
     "execution_count": 8,
     "metadata": {},
     "output_type": "execute_result"
    }
   ],
   "source": [
    "list(freqs.items())[:50]"
   ]
  },
  {
   "cell_type": "markdown",
   "metadata": {},
   "source": [
    "### Sorting elements"
   ]
  },
  {
   "cell_type": "code",
   "execution_count": 9,
   "metadata": {},
   "outputs": [],
   "source": [
    "freqs_sorted = {k: v for k, v in sorted(freqs.items(), key=lambda item: item[1], reverse=True)}"
   ]
  },
  {
   "cell_type": "code",
   "execution_count": 10,
   "metadata": {},
   "outputs": [
    {
     "data": {
      "text/plain": [
       "[('в', 12830204),\n",
       " ('на', 12600041),\n",
       " ('у', 11655571),\n",
       " ('і', 10688704),\n",
       " ('з', 9474681),\n",
       " ('що', 7579290),\n",
       " ('не', 6097124),\n",
       " ('бути', 5919322),\n",
       " ('до', 5549766),\n",
       " ('за', 5289288),\n",
       " ('та', 4794144),\n",
       " ('це', 4214535),\n",
       " ('україна', 4043423),\n",
       " ('який', 3959314),\n",
       " ('як', 3772679),\n",
       " ('про', 3559146),\n",
       " ('рік', 3348058),\n",
       " ('а', 3083457),\n",
       " ('він', 2756712),\n",
       " ('для', 2464221),\n",
       " ('від', 2344023),\n",
       " ('й', 2060777),\n",
       " ('свій', 1952564),\n",
       " ('вони', 1941613),\n",
       " ('його', 1815000),\n",
       " ('цей', 1802201),\n",
       " ('також', 1662993),\n",
       " ('я', 1649060),\n",
       " ('ми', 1628819),\n",
       " ('той', 1611214),\n",
       " ('категорія', 1528804),\n",
       " ('один', 1453734),\n",
       " ('мати', 1434553),\n",
       " ('час', 1408419),\n",
       " ('такий', 1400936),\n",
       " ('із', 1316518),\n",
       " ('але', 1316113),\n",
       " ('могти', 1302069),\n",
       " ('під', 1223538),\n",
       " ('рок', 1211673)]"
      ]
     },
     "execution_count": 10,
     "metadata": {},
     "output_type": "execute_result"
    }
   ],
   "source": [
    "list(freqs_sorted.items())[:40]"
   ]
  },
  {
   "cell_type": "code",
   "execution_count": 11,
   "metadata": {},
   "outputs": [],
   "source": [
    "with open('freqs_sorted.txt', 'wb') as f:\n",
    "    pickle.dump(freqs_sorted, f)"
   ]
  },
  {
   "cell_type": "code",
   "execution_count": null,
   "metadata": {},
   "outputs": [],
   "source": []
  },
  {
   "cell_type": "code",
   "execution_count": null,
   "metadata": {},
   "outputs": [],
   "source": []
  }
 ],
 "metadata": {
  "kernelspec": {
   "display_name": "Python 3",
   "language": "python",
   "name": "python3"
  },
  "language_info": {
   "codemirror_mode": {
    "name": "ipython",
    "version": 3
   },
   "file_extension": ".py",
   "mimetype": "text/x-python",
   "name": "python",
   "nbconvert_exporter": "python",
   "pygments_lexer": "ipython3",
   "version": "3.8.6"
  }
 },
 "nbformat": 4,
 "nbformat_minor": 4
}
